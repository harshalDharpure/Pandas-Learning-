{
  "nbformat": 4,
  "nbformat_minor": 0,
  "metadata": {
    "colab": {
      "name": "Pandas Learning.ipynb",
      "private_outputs": true,
      "provenance": [],
      "authorship_tag": "ABX9TyOwMa6oMYnAg1OkPF0+cgdf",
      "include_colab_link": true
    },
    "kernelspec": {
      "name": "python3",
      "display_name": "Python 3"
    },
    "language_info": {
      "name": "python"
    }
  },
  "cells": [
    {
      "cell_type": "markdown",
      "metadata": {
        "id": "view-in-github",
        "colab_type": "text"
      },
      "source": [
        "<a href=\"https://colab.research.google.com/github/harshalDharpure/Pandas-Learning-/blob/main/Pandas_Learning.ipynb\" target=\"_parent\"><img src=\"https://colab.research.google.com/assets/colab-badge.svg\" alt=\"Open In Colab\"/></a>"
      ]
    },
    {
      "cell_type": "markdown",
      "source": [
        "##Creating the DataFrame in Python"
      ],
      "metadata": {
        "id": "p6ky-J-neWJb"
      }
    },
    {
      "cell_type": "code",
      "execution_count": null,
      "metadata": {
        "id": "LiJGnMSIduyx"
      },
      "outputs": [],
      "source": [
        "import pandas as pd\n",
        "data={\n",
        "    'cars':[\"Audi\",\"BMW\",\"Jaguar\"],\n",
        "    'passings':[3,4,5]\n",
        "\n",
        "}\n",
        "var=pd.DataFrame(data)\n",
        "print(var)"
      ]
    },
    {
      "cell_type": "code",
      "source": [
        "##checking the pandas version\n",
        "import pandas as pd\n",
        "print(pd.__version__)"
      ],
      "metadata": {
        "id": "P0lXwK9zeVfQ"
      },
      "execution_count": null,
      "outputs": []
    },
    {
      "cell_type": "code",
      "source": [
        "print(pd.__version__)"
      ],
      "metadata": {
        "id": "Nu5K_aNaemHs"
      },
      "execution_count": null,
      "outputs": []
    },
    {
      "cell_type": "markdown",
      "source": [
        "##Panadas Series"
      ],
      "metadata": {
        "id": "SAaXE3ppe0Cn"
      }
    },
    {
      "cell_type": "code",
      "source": [
        "import pandas as pd\n",
        "a=[1,2,3,\"Harshal\"]\n",
        "var=pd.Series(a)\n",
        "print(a)"
      ],
      "metadata": {
        "id": "6JBYzHFie2Os"
      },
      "execution_count": null,
      "outputs": []
    },
    {
      "cell_type": "code",
      "source": [
        "import pandas as pd\n",
        "data=pd.read_csv('/content/data.csv')\n",
        "data.head()"
      ],
      "metadata": {
        "id": "tWJ1B3nIf5KA"
      },
      "execution_count": null,
      "outputs": []
    },
    {
      "cell_type": "code",
      "source": [
        "data1=data.isnull().sum()"
      ],
      "metadata": {
        "id": "rJCy8_4mhFCI"
      },
      "execution_count": null,
      "outputs": []
    },
    {
      "cell_type": "code",
      "source": [
        "data1"
      ],
      "metadata": {
        "id": "V9i1yi2ohSVY"
      },
      "execution_count": null,
      "outputs": []
    },
    {
      "cell_type": "code",
      "source": [
        "data=data1"
      ],
      "metadata": {
        "id": "q5Wm-7YphWOK"
      },
      "execution_count": null,
      "outputs": []
    },
    {
      "cell_type": "code",
      "source": [
        "print(data1.to_string())"
      ],
      "metadata": {
        "id": "EP-KUb4uhZHy"
      },
      "execution_count": null,
      "outputs": []
    },
    {
      "cell_type": "code",
      "source": [
        "import pandas as pd\n",
        "\n",
        "df = pd.read_csv('data.csv')\n",
        "\n",
        "new_df = df.dropna()\n",
        "\n",
        "print(new_df.to_string())"
      ],
      "metadata": {
        "id": "QrRzUIolhpCg"
      },
      "execution_count": null,
      "outputs": []
    },
    {
      "cell_type": "code",
      "source": [
        "print(data.to_string())"
      ],
      "metadata": {
        "id": "eN_GBszyhmwR"
      },
      "execution_count": null,
      "outputs": []
    },
    {
      "cell_type": "code",
      "source": [
        "import pandas as pd\n",
        "data=pd.read_csv('data.csv')\n",
        "data.dropna(inplace=True)\n",
        "print(data.to_string())"
      ],
      "metadata": {
        "id": "DKZcb4K7hiR5"
      },
      "execution_count": null,
      "outputs": []
    },
    {
      "cell_type": "code",
      "source": [
        ""
      ],
      "metadata": {
        "id": "S37oXe_DiOAc"
      },
      "execution_count": null,
      "outputs": []
    },
    {
      "cell_type": "code",
      "source": [
        ""
      ],
      "metadata": {
        "id": "bN6cDASKf2ve"
      },
      "execution_count": null,
      "outputs": []
    },
    {
      "cell_type": "code",
      "source": [
        ""
      ],
      "metadata": {
        "id": "IxKtZOkHfzg8"
      },
      "execution_count": null,
      "outputs": []
    },
    {
      "cell_type": "code",
      "source": [
        ""
      ],
      "metadata": {
        "id": "fxTEDcsIfw77"
      },
      "execution_count": null,
      "outputs": []
    },
    {
      "cell_type": "code",
      "source": [
        ""
      ],
      "metadata": {
        "id": "AOXI3aL5fLCL"
      },
      "execution_count": null,
      "outputs": []
    },
    {
      "cell_type": "code",
      "source": [
        ""
      ],
      "metadata": {
        "id": "YZRoVPF3fI42"
      },
      "execution_count": null,
      "outputs": []
    },
    {
      "cell_type": "code",
      "source": [
        ""
      ],
      "metadata": {
        "id": "8IgWivO9fFMK"
      },
      "execution_count": null,
      "outputs": []
    },
    {
      "cell_type": "code",
      "source": [
        ""
      ],
      "metadata": {
        "id": "2uX8TbsafADd"
      },
      "execution_count": null,
      "outputs": []
    },
    {
      "cell_type": "code",
      "source": [
        ""
      ],
      "metadata": {
        "id": "jYFSJ4J9er7T"
      },
      "execution_count": null,
      "outputs": []
    }
  ]
}